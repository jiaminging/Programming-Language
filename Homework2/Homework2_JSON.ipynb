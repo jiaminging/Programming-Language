{
 "cells": [
  {
   "cell_type": "markdown",
   "id": "843ac7df",
   "metadata": {},
   "source": [
    "# Homework 2\n",
    "### We change a file from *.csv* to *.json* and analyse it.\n",
    "\n",
    "- I use a .json file that is about ranking of music albums.\n",
    "\n",
    "\n",
    "\n",
    "---"
   ]
  },
  {
   "cell_type": "markdown",
   "id": "e883c59f",
   "metadata": {},
   "source": [
    " # Step 1 \n",
    " \n",
    " - Import json and read the file.\n",
    " - I also check the type of my output and found out that it's a dictionary. "
   ]
  },
  {
   "cell_type": "code",
   "execution_count": 49,
   "id": "0b93a8ff",
   "metadata": {},
   "outputs": [],
   "source": [
    "import json"
   ]
  },
  {
   "cell_type": "code",
   "execution_count": 50,
   "id": "fa663d0e",
   "metadata": {},
   "outputs": [
    {
     "data": {
      "text/plain": [
       "dict"
      ]
     },
     "execution_count": 50,
     "metadata": {},
     "output_type": "execute_result"
    }
   ],
   "source": [
    "album = open('hw2_album.json',encoding=\"utf8\")\n",
    "data = json.load(album)\n",
    "type(data)"
   ]
  },
  {
   "cell_type": "markdown",
   "id": "a5f38c5e",
   "metadata": {},
   "source": [
    "* * * \n",
    "\n",
    "# Step 2\n",
    "\n",
    "- List the data out and see how it goes.\n",
    "- This is the whole file."
   ]
  },
  {
   "cell_type": "code",
   "execution_count": 51,
   "id": "396aa912",
   "metadata": {
    "scrolled": true
   },
   "outputs": [
    {
     "data": {
      "text/plain": [
       "dict_items([('Albums', [{'Ranking': '1', 'Album': 'Whats Going On', 'Artist': 'Marvin Gaye', 'Year': 1971, 'Record': 'Tamla/Motown', 'Nation': 'USA', 'listened': 'nope'}, {'Ranking': '2', 'Album': 'Pet Sounds', 'Artist': 'The Beach Boys', 'Year': 1966, 'Record': 'Capitol', 'Nation': 'USA', 'listened': 'nope'}, {'Ranking': '3', 'Album': 'Songs in the Key of Life', 'Artist': 'Stevie Wonder', 'Year': 1976, 'Record': 'Tamla/Motown', 'Nation': 'USA', 'listened': 'yes'}, {'Ranking': '4', 'Album': 'Abbey Road', 'Artist': 'The Beatles', 'Year': 1969, 'Record': 'Apple', 'Nation': 'UK', 'listened': 'yes'}, {'Ranking': '5', 'Album': 'Rumors', 'Artist': 'Fleetwood Mac', 'Year': 1977, 'Record': 'Warner Bros.', 'Nation': 'UK', 'listened': 'nope'}, {'Ranking': '6', 'Album': 'Purple Rain', 'Artist': 'Prince and the Revolution', 'Year': 1984, 'Record': 'Warner Bros.', 'Nation': 'USA', 'listened': 'yes'}, {'Ranking': '7', 'Album': 'Are You Experienced', 'Artist': 'Jimi Hendrix', 'Year': 1967, 'Record': 'Track', 'Nation': 'USA', 'listened': 'yes'}, {'Ranking': '8', 'Album': 'Sgt. Pepper’s Lonely Hearts Club Band', 'Artist': 'The Beatles', 'Year': 1967, 'Record': 'Capitol', 'Nation': 'UK', 'listened': 'yes'}, {'Ranking': '9', 'Album': 'White Album', 'Artist': 'The Beatles', 'Year': 1968, 'Record': 'Apple', 'Nation': 'UK', 'listened': 'yes'}, {'Ranking': '10', 'Album': 'Nevermind', 'Artist': 'Nirvana', 'Year': 1991, 'Record': 'Geffen', 'Nation': 'UK', 'listened': 'yes'}])])"
      ]
     },
     "execution_count": 51,
     "metadata": {},
     "output_type": "execute_result"
    }
   ],
   "source": [
    "data.items()"
   ]
  },
  {
   "cell_type": "markdown",
   "id": "70551672",
   "metadata": {},
   "source": [
    "---\n",
    "- And below is the \"Albums\" ,but actually it only have one key in this dictionary. "
   ]
  },
  {
   "cell_type": "code",
   "execution_count": 52,
   "id": "aecb3d14",
   "metadata": {},
   "outputs": [
    {
     "data": {
      "text/plain": [
       "[{'Ranking': '1',\n",
       "  'Album': 'Whats Going On',\n",
       "  'Artist': 'Marvin Gaye',\n",
       "  'Year': 1971,\n",
       "  'Record': 'Tamla/Motown',\n",
       "  'Nation': 'USA',\n",
       "  'listened': 'nope'},\n",
       " {'Ranking': '2',\n",
       "  'Album': 'Pet Sounds',\n",
       "  'Artist': 'The Beach Boys',\n",
       "  'Year': 1966,\n",
       "  'Record': 'Capitol',\n",
       "  'Nation': 'USA',\n",
       "  'listened': 'nope'},\n",
       " {'Ranking': '3',\n",
       "  'Album': 'Songs in the Key of Life',\n",
       "  'Artist': 'Stevie Wonder',\n",
       "  'Year': 1976,\n",
       "  'Record': 'Tamla/Motown',\n",
       "  'Nation': 'USA',\n",
       "  'listened': 'yes'},\n",
       " {'Ranking': '4',\n",
       "  'Album': 'Abbey Road',\n",
       "  'Artist': 'The Beatles',\n",
       "  'Year': 1969,\n",
       "  'Record': 'Apple',\n",
       "  'Nation': 'UK',\n",
       "  'listened': 'yes'},\n",
       " {'Ranking': '5',\n",
       "  'Album': 'Rumors',\n",
       "  'Artist': 'Fleetwood Mac',\n",
       "  'Year': 1977,\n",
       "  'Record': 'Warner Bros.',\n",
       "  'Nation': 'UK',\n",
       "  'listened': 'nope'},\n",
       " {'Ranking': '6',\n",
       "  'Album': 'Purple Rain',\n",
       "  'Artist': 'Prince and the Revolution',\n",
       "  'Year': 1984,\n",
       "  'Record': 'Warner Bros.',\n",
       "  'Nation': 'USA',\n",
       "  'listened': 'yes'},\n",
       " {'Ranking': '7',\n",
       "  'Album': 'Are You Experienced',\n",
       "  'Artist': 'Jimi Hendrix',\n",
       "  'Year': 1967,\n",
       "  'Record': 'Track',\n",
       "  'Nation': 'USA',\n",
       "  'listened': 'yes'},\n",
       " {'Ranking': '8',\n",
       "  'Album': 'Sgt. Pepper’s Lonely Hearts Club Band',\n",
       "  'Artist': 'The Beatles',\n",
       "  'Year': 1967,\n",
       "  'Record': 'Capitol',\n",
       "  'Nation': 'UK',\n",
       "  'listened': 'yes'},\n",
       " {'Ranking': '9',\n",
       "  'Album': 'White Album',\n",
       "  'Artist': 'The Beatles',\n",
       "  'Year': 1968,\n",
       "  'Record': 'Apple',\n",
       "  'Nation': 'UK',\n",
       "  'listened': 'yes'},\n",
       " {'Ranking': '10',\n",
       "  'Album': 'Nevermind',\n",
       "  'Artist': 'Nirvana',\n",
       "  'Year': 1991,\n",
       "  'Record': 'Geffen',\n",
       "  'Nation': 'UK',\n",
       "  'listened': 'yes'}]"
      ]
     },
     "execution_count": 52,
     "metadata": {},
     "output_type": "execute_result"
    }
   ],
   "source": [
    "albums = data.get('Albums')\n",
    "albums"
   ]
  },
  {
   "cell_type": "markdown",
   "id": "7113dcb9",
   "metadata": {},
   "source": [
    "---\n",
    "\n",
    "# Step 3\n",
    "\n",
    "- You can search the album by the rankings.\n",
    "- ex. the first place is \"Whats Going On\",so if you enter 1,\n",
    "- it will show: \n",
    "    * ***1.*** the album's **name**    \n",
    "    * ***2.*** which **year** it was first introduced.\n"
   ]
  },
  {
   "cell_type": "code",
   "execution_count": 54,
   "id": "9eb52d19",
   "metadata": {},
   "outputs": [
    {
     "name": "stdout",
     "output_type": "stream",
     "text": [
      "Please enter a ranking of the list above : 6\n",
      "This is Purple Rain from Prince and the Revolution .\n",
      "It was first introduced in 1984 .\n"
     ]
    }
   ],
   "source": [
    "\n",
    "\n",
    "# If you enter a number that is over 10 or less than 1, it'll warn you to enter between 1-10.\n",
    "\n",
    "rank = input(\"Please enter a ranking of the list above : \")\n",
    "\n",
    "if rank>10 | rank<1:\n",
    "    print(\"Please enter the ranking between 1 to 10 !\")\n",
    "    \n",
    "else:\n",
    "    for i in albums:\n",
    "        if rank == i.get('Ranking'):\n",
    "            print(\"This is\",i.get('Album'),\"from\",i.get('Artist'),\".\")\n",
    "            print(\"It was first introduced in\",i.get('Year'),\".\")\n",
    "\n"
   ]
  },
  {
   "cell_type": "markdown",
   "id": "f1cf060a",
   "metadata": {},
   "source": [
    "# Step 4\n",
    "\n",
    "- differentiate weather the album is from America or fr"
   ]
  },
  {
   "cell_type": "code",
   "execution_count": 55,
   "id": "03ac1891",
   "metadata": {},
   "outputs": [
    {
     "name": "stdout",
     "output_type": "stream",
     "text": [
      "['Whats Going On', 'Pet Sounds', 'Songs in the Key of Life', 'Purple Rain', 'Are You Experienced']\n",
      "['Abbey Road', 'Rumors', 'Sgt. Pepper’s Lonely Hearts Club Band', 'White Album', 'Nevermind']\n"
     ]
    }
   ],
   "source": [
    "lst_usa = []\n",
    "lst_uk = []\n",
    "for i in albums:\n",
    "    if i.get('Nation') == \"USA\":\n",
    "        lst_usa.append(i.get('Album'))\n",
    "    else:\n",
    "        lst_uk.append(i.get('Album'))\n",
    "        \n",
    "print(lst_usa)\n",
    "print(lst_uk)"
   ]
  },
  {
   "cell_type": "code",
   "execution_count": null,
   "id": "879de99b",
   "metadata": {},
   "outputs": [],
   "source": []
  }
 ],
 "metadata": {
  "kernelspec": {
   "display_name": "Python 3 (ipykernel)",
   "language": "python",
   "name": "python3"
  },
  "language_info": {
   "codemirror_mode": {
    "name": "ipython",
    "version": 3
   },
   "file_extension": ".py",
   "mimetype": "text/x-python",
   "name": "python",
   "nbconvert_exporter": "python",
   "pygments_lexer": "ipython3",
   "version": "3.9.12"
  }
 },
 "nbformat": 4,
 "nbformat_minor": 5
}
