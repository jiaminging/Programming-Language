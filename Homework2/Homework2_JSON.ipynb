{
 "cells": [
  {
   "cell_type": "markdown",
   "id": "843ac7df",
   "metadata": {},
   "source": [
    "# Homework 2\n",
    "### We change a file from *.csv* to *.json* and analyse it.\n",
    "\n",
    "- I use a .json file that is about ranking of music albums.\n",
    "\n",
    "\n",
    "\n",
    "---"
   ]
  },
  {
   "cell_type": "markdown",
   "id": "e883c59f",
   "metadata": {},
   "source": [
    " # Step 1 \n",
    " \n",
    " - Import json and read the file.\n",
    " - I also check the type of my output and found out that it's a dictionary. "
   ]
  },
  {
   "cell_type": "code",
   "execution_count": 1,
   "id": "0b93a8ff",
   "metadata": {},
   "outputs": [],
   "source": [
    "import json"
   ]
  },
  {
   "cell_type": "code",
   "execution_count": 2,
   "id": "fa663d0e",
   "metadata": {},
   "outputs": [
    {
     "data": {
      "text/plain": [
       "dict"
      ]
     },
     "execution_count": 2,
     "metadata": {},
     "output_type": "execute_result"
    }
   ],
   "source": [
    "album = open('hw2_album.json',encoding=\"utf8\")\n",
    "data = json.load(album)\n",
    "type(data)"
   ]
  },
  {
   "cell_type": "markdown",
   "id": "a5f38c5e",
   "metadata": {},
   "source": [
    "* * * \n",
    "\n",
    "# Step 2\n",
    "\n",
    "- List the data out and see how it goes.\n",
    "- This is the whole file."
   ]
  },
  {
   "cell_type": "code",
   "execution_count": 3,
   "id": "396aa912",
   "metadata": {
    "scrolled": true
   },
   "outputs": [
    {
     "data": {
      "text/plain": [
       "dict_items([('Albums', [{'Ranking': '1', 'Album': 'Whats Going On', 'Artist': 'Marvin Gaye', 'Year': 1971, 'Record': 'Tamla/Motown', 'Nation': 'USA', 'listened': 'nope'}, {'Ranking': '2', 'Album': 'Pet Sounds', 'Artist': 'The Beach Boys', 'Year': 1966, 'Record': 'Capitol', 'Nation': 'USA', 'listened': 'nope'}, {'Ranking': '3', 'Album': 'Songs in the Key of Life', 'Artist': 'Stevie Wonder', 'Year': 1976, 'Record': 'Tamla/Motown', 'Nation': 'USA', 'listened': 'yes'}, {'Ranking': '4', 'Album': 'Abbey Road', 'Artist': 'The Beatles', 'Year': 1969, 'Record': 'Apple', 'Nation': 'UK', 'listened': 'yes'}, {'Ranking': '5', 'Album': 'Rumors', 'Artist': 'Fleetwood Mac', 'Year': 1977, 'Record': 'Warner Bros.', 'Nation': 'UK', 'listened': 'nope'}, {'Ranking': '6', 'Album': 'Purple Rain', 'Artist': 'Prince and the Revolution', 'Year': 1984, 'Record': 'Warner Bros.', 'Nation': 'USA', 'listened': 'yes'}, {'Ranking': '7', 'Album': 'Are You Experienced', 'Artist': 'Jimi Hendrix', 'Year': 1967, 'Record': 'Track', 'Nation': 'USA', 'listened': 'yes'}, {'Ranking': '8', 'Album': 'Sgt. Pepper’s Lonely Hearts Club Band', 'Artist': 'The Beatles', 'Year': 1967, 'Record': 'Capitol', 'Nation': 'UK', 'listened': 'yes'}, {'Ranking': '9', 'Album': 'White Album', 'Artist': 'The Beatles', 'Year': 1968, 'Record': 'Apple', 'Nation': 'UK', 'listened': 'yes'}, {'Ranking': '10', 'Album': 'Nevermind', 'Artist': 'Nirvana', 'Year': 1991, 'Record': 'Geffen', 'Nation': 'UK', 'listened': 'yes'}])])"
      ]
     },
     "execution_count": 3,
     "metadata": {},
     "output_type": "execute_result"
    }
   ],
   "source": [
    "data.items()"
   ]
  },
  {
   "cell_type": "markdown",
   "id": "70551672",
   "metadata": {},
   "source": [
    "---\n",
    "- And below is the \"Albums\" ,but actually it only have one key in this dictionary. "
   ]
  },
  {
   "cell_type": "code",
   "execution_count": 4,
   "id": "aecb3d14",
   "metadata": {},
   "outputs": [
    {
     "data": {
      "text/plain": [
       "list"
      ]
     },
     "execution_count": 4,
     "metadata": {},
     "output_type": "execute_result"
    }
   ],
   "source": [
    "albums = data.get('Albums')\n",
    "albums\n",
    "type(albums)"
   ]
  },
  {
   "cell_type": "markdown",
   "id": "7113dcb9",
   "metadata": {},
   "source": [
    "---\n",
    "\n",
    "# Step 3\n",
    "\n",
    "- You can search the album by the rankings.\n",
    "- ex. the first place is \"Whats Going On\",so if you enter 1,\n",
    "- it will show: \n",
    "    * ***1.*** the album's **name**    \n",
    "    * ***2.*** which **year** it was first introduced.\n",
    "    * ***3.*** If you enter a number that is **over 10** or **less than 1**, it'll warn you to enter between 1-10."
   ]
  },
  {
   "cell_type": "code",
   "execution_count": 11,
   "id": "9eb52d19",
   "metadata": {},
   "outputs": [
    {
     "name": "stdout",
     "output_type": "stream",
     "text": [
      "Please enter a ranking of the list above : 7\n",
      "This is Are You Experienced from Jimi Hendrix .\n",
      "It was first introduced in 1967 .\n"
     ]
    }
   ],
   "source": [
    "rank = input(\"Please enter a ranking of the list above : \")\n",
    "\n",
    "\n",
    "if int(rank)>10 or int(rank)<1:\n",
    "    print(\"Please enter the ranking between 1 to 10 !\")\n",
    "    \n",
    "else:\n",
    "    for i in albums:\n",
    "        if rank == i.get ('Ranking'):\n",
    "            print(\"This is\",i.get('Album'),\"from\",i.get('Artist'),\".\")\n",
    "            print(\"It was first introduced in\",i.get('Year'),\".\")"
   ]
  },
  {
   "cell_type": "code",
   "execution_count": 9,
   "id": "7a48ab43",
   "metadata": {
    "scrolled": true
   },
   "outputs": [
    {
     "name": "stdout",
     "output_type": "stream",
     "text": [
      "Whats Going On\n",
      "Pet Sounds\n",
      "Songs in the Key of Life\n",
      "Abbey Road\n",
      "Rumors\n",
      "Purple Rain\n",
      "Are You Experienced\n",
      "Sgt. Pepper’s Lonely Hearts Club Band\n",
      "White Album\n",
      "Nevermind\n"
     ]
    }
   ],
   "source": [
    "for i in albums:\n",
    "    print(i.get('Album'))"
   ]
  },
  {
   "cell_type": "markdown",
   "id": "4e1bca95",
   "metadata": {},
   "source": [
    "# Step 4\n",
    "\n",
    "- sort all Albums by releasing years"
   ]
  },
  {
   "cell_type": "code",
   "execution_count": 10,
   "id": "1b262346",
   "metadata": {},
   "outputs": [
    {
     "data": {
      "text/plain": [
       "[1971, 1966, 1976, 1969, 1977, 1984, 1967, 1967, 1968, 1991]"
      ]
     },
     "execution_count": 10,
     "metadata": {},
     "output_type": "execute_result"
    }
   ],
   "source": [
    "lst_year = []\n",
    "\n",
    "for i in albums:\n",
    "    if i in albums:\n",
    "        lst_year.append(i.get('Year'))\n",
    "\n",
    "lst_year"
   ]
  },
  {
   "cell_type": "code",
   "execution_count": 107,
   "id": "07ff9179",
   "metadata": {},
   "outputs": [
    {
     "data": {
      "text/plain": [
       "<enumerate at 0x17bbefba1c0>"
      ]
     },
     "execution_count": 107,
     "metadata": {},
     "output_type": "execute_result"
    }
   ],
   "source": [
    "lst_year_enum = enumerate(lst_year, start = 1) \n",
    "lst_year_enum"
   ]
  },
  {
   "cell_type": "code",
   "execution_count": 108,
   "id": "cd97b658",
   "metadata": {},
   "outputs": [
    {
     "data": {
      "text/plain": [
       "[(2, 1966),\n",
       " (7, 1967),\n",
       " (8, 1967),\n",
       " (9, 1968),\n",
       " (4, 1969),\n",
       " (1, 1971),\n",
       " (3, 1976),\n",
       " (5, 1977),\n",
       " (6, 1984),\n",
       " (10, 1991)]"
      ]
     },
     "execution_count": 108,
     "metadata": {},
     "output_type": "execute_result"
    }
   ],
   "source": [
    "lst_year_sorted = sorted(lst_year_enum, key = lambda s: s[1], reverse=False)\n",
    "lst_year_sorted "
   ]
  },
  {
   "cell_type": "markdown",
   "id": "dd886949",
   "metadata": {},
   "source": []
  },
  {
   "cell_type": "code",
   "execution_count": 120,
   "id": "f3771607",
   "metadata": {},
   "outputs": [
    {
     "name": "stdout",
     "output_type": "stream",
     "text": [
      "1 . Pet Sounds was first released in 1966 .\n",
      "2 . Are You Experienced was first released in 1967 .\n",
      "3 . Sgt. Pepper’s Lonely Hearts Club Band was first released in 1967 .\n",
      "4 . White Album was first released in 1968 .\n",
      "5 . Abbey Road was first released in 1969 .\n",
      "6 . Whats Going On was first released in 1971 .\n",
      "7 . Songs in the Key of Life was first released in 1976 .\n",
      "8 . Rumors was first released in 1977 .\n",
      "9 . Purple Rain was first released in 1984 .\n",
      "10 . Nevermind was first released in 1991 .\n"
     ]
    }
   ],
   "source": [
    "k = 1\n",
    "for i in lst_year_sorted:\n",
    "    j = i[0] - 1\n",
    "    print(k,\".\",albums[j].get('Album'), 'was first released in',  albums[j].get('Year'),'.')\n",
    "    k = k + 1"
   ]
  }
 ],
 "metadata": {
  "kernelspec": {
   "display_name": "Python 3 (ipykernel)",
   "language": "python",
   "name": "python3"
  },
  "language_info": {
   "codemirror_mode": {
    "name": "ipython",
    "version": 3
   },
   "file_extension": ".py",
   "mimetype": "text/x-python",
   "name": "python",
   "nbconvert_exporter": "python",
   "pygments_lexer": "ipython3",
   "version": "3.9.12"
  }
 },
 "nbformat": 4,
 "nbformat_minor": 5
}
