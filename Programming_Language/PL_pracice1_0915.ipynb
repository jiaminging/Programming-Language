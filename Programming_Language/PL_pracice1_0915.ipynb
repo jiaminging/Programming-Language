{
 "cells": [
  {
   "cell_type": "code",
   "execution_count": null,
   "id": "01846713",
   "metadata": {},
   "outputs": [],
   "source": [
    "total = 25688\n",
    "A = total * 0.7\n",
    "B = total * 0.3\n",
    "print(\"被告須賠償:\",A)\n",
    "print(\"原告須賠償:\",B)\n"
   ]
  }
 ],
 "metadata": {
  "kernelspec": {
   "display_name": "Python 3 (ipykernel)",
   "language": "python",
   "name": "python3"
  },
  "language_info": {
   "codemirror_mode": {
    "name": "ipython",
    "version": 3
   },
   "file_extension": ".py",
   "mimetype": "text/x-python",
   "name": "python",
   "nbconvert_exporter": "python",
   "pygments_lexer": "ipython3",
   "version": "3.9.12"
  }
 },
 "nbformat": 4,
 "nbformat_minor": 5
}
