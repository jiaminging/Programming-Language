{
 "cells": [
  {
   "cell_type": "code",
   "execution_count": null,
   "id": "037daee0",
   "metadata": {},
   "outputs": [],
   "source": [
    "A = input(\"請輸入被告闖紅燈/原告闖紅燈/被告原告接闖紅燈\")\n",
    "if A == \"被告闖紅燈\":\n",
    "    print(\"被告陪100%\")\n",
    "elif A == \"原告闖紅燈\":\n",
    "    print(\"原告多被告少\")\n",
    "elif A == \"被告原告接闖紅燈\":\n",
    "    print(\"原告50%被告50%\")\n",
    "else:\n",
    "    print(\"請輸入有效訊息\")\n",
    "\n"
   ]
  },
  {
   "cell_type": "code",
   "execution_count": null,
   "id": "6f998248",
   "metadata": {},
   "outputs": [],
   "source": []
  }
 ],
 "metadata": {
  "kernelspec": {
   "display_name": "Python 3 (ipykernel)",
   "language": "python",
   "name": "python3"
  },
  "language_info": {
   "codemirror_mode": {
    "name": "ipython",
    "version": 3
   },
   "file_extension": ".py",
   "mimetype": "text/x-python",
   "name": "python",
   "nbconvert_exporter": "python",
   "pygments_lexer": "ipython3",
   "version": "3.9.12"
  }
 },
 "nbformat": 4,
 "nbformat_minor": 5
}
