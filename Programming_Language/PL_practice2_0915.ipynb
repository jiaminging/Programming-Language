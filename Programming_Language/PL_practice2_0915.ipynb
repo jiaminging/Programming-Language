{
 "cells": [
  {
   "cell_type": "code",
   "execution_count": 4,
   "id": "7ccadfef",
   "metadata": {},
   "outputs": [
    {
     "name": "stdout",
     "output_type": "stream",
     "text": [
      "丁OO須償還: 12608 元\n"
     ]
    }
   ],
   "source": [
    "total = 11805\n",
    "A = total * (1.0005 ** 59) + 150 + 300\n",
    "print(\"丁OO須償還:\",int(A),\"元\")"
   ]
  }
 ],
 "metadata": {
  "kernelspec": {
   "display_name": "Python 3 (ipykernel)",
   "language": "python",
   "name": "python3"
  },
  "language_info": {
   "codemirror_mode": {
    "name": "ipython",
    "version": 3
   },
   "file_extension": ".py",
   "mimetype": "text/x-python",
   "name": "python",
   "nbconvert_exporter": "python",
   "pygments_lexer": "ipython3",
   "version": "3.9.12"
  }
 },
 "nbformat": 4,
 "nbformat_minor": 5
}
