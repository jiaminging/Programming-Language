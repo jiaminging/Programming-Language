{
 "cells": [
  {
   "cell_type": "code",
   "execution_count": 2,
   "id": "1148e955",
   "metadata": {},
   "outputs": [],
   "source": [
    "import jieba\n",
    "import jieba.analyse\n",
    "import pandas as pd\n",
    "import numpy as np\n",
    "import re\n",
    "from collections import Counter"
   ]
  },
  {
   "cell_type": "code",
   "execution_count": 3,
   "id": "19988985",
   "metadata": {},
   "outputs": [],
   "source": [
    "orgdata = pd.read_csv('Taoyuan.csv')"
   ]
  },
  {
   "cell_type": "code",
   "execution_count": 4,
   "id": "4652eae8",
   "metadata": {},
   "outputs": [
    {
     "data": {
      "text/html": [
       "<div>\n",
       "<style scoped>\n",
       "    .dataframe tbody tr th:only-of-type {\n",
       "        vertical-align: middle;\n",
       "    }\n",
       "\n",
       "    .dataframe tbody tr th {\n",
       "        vertical-align: top;\n",
       "    }\n",
       "\n",
       "    .dataframe thead th {\n",
       "        text-align: right;\n",
       "    }\n",
       "</style>\n",
       "<table border=\"1\" class=\"dataframe\">\n",
       "  <thead>\n",
       "    <tr style=\"text-align: right;\">\n",
       "      <th></th>\n",
       "      <th>公園綠地名稱</th>\n",
       "      <th>公園地址</th>\n",
       "    </tr>\n",
       "  </thead>\n",
       "  <tbody>\n",
       "    <tr>\n",
       "      <th>0</th>\n",
       "      <td>溫州公園</td>\n",
       "      <td>桃園區溫州街59號對面</td>\n",
       "    </tr>\n",
       "    <tr>\n",
       "      <th>1</th>\n",
       "      <td>青溪公園</td>\n",
       "      <td>桃園區自強路217號</td>\n",
       "    </tr>\n",
       "    <tr>\n",
       "      <th>2</th>\n",
       "      <td>西門綠園</td>\n",
       "      <td>桃園區四維街、文康街口</td>\n",
       "    </tr>\n",
       "    <tr>\n",
       "      <th>3</th>\n",
       "      <td>成功公園</td>\n",
       "      <td>桃園區成功路三段旁</td>\n",
       "    </tr>\n",
       "    <tr>\n",
       "      <th>4</th>\n",
       "      <td>仁愛公園</td>\n",
       "      <td>桃園區宏昌九街、泰昌十一街口</td>\n",
       "    </tr>\n",
       "    <tr>\n",
       "      <th>...</th>\n",
       "      <td>...</td>\n",
       "      <td>...</td>\n",
       "    </tr>\n",
       "    <tr>\n",
       "      <th>318</th>\n",
       "      <td>觀音兒一公園</td>\n",
       "      <td>觀音區仁愛路43巷39號邊(與39巷交口)</td>\n",
       "    </tr>\n",
       "    <tr>\n",
       "      <th>319</th>\n",
       "      <td>甘泉公園</td>\n",
       "      <td>觀音區中山路甘泉井旁</td>\n",
       "    </tr>\n",
       "    <tr>\n",
       "      <th>320</th>\n",
       "      <td>十全休憩公園</td>\n",
       "      <td>觀音區十全路與一心路口旁</td>\n",
       "    </tr>\n",
       "    <tr>\n",
       "      <th>321</th>\n",
       "      <td>草漯3號廣場</td>\n",
       "      <td>觀音區草新段612</td>\n",
       "    </tr>\n",
       "    <tr>\n",
       "      <th>322</th>\n",
       "      <td>志工公園</td>\n",
       "      <td>復興區澤仁里忠孝路24號旁</td>\n",
       "    </tr>\n",
       "  </tbody>\n",
       "</table>\n",
       "<p>323 rows × 2 columns</p>\n",
       "</div>"
      ],
      "text/plain": [
       "     公園綠地名稱                   公園地址\n",
       "0      溫州公園            桃園區溫州街59號對面\n",
       "1      青溪公園             桃園區自強路217號\n",
       "2      西門綠園            桃園區四維街、文康街口\n",
       "3      成功公園              桃園區成功路三段旁\n",
       "4      仁愛公園         桃園區宏昌九街、泰昌十一街口\n",
       "..      ...                    ...\n",
       "318  觀音兒一公園  觀音區仁愛路43巷39號邊(與39巷交口)\n",
       "319    甘泉公園             觀音區中山路甘泉井旁\n",
       "320  十全休憩公園           觀音區十全路與一心路口旁\n",
       "321  草漯3號廣場              觀音區草新段612\n",
       "322    志工公園          復興區澤仁里忠孝路24號旁\n",
       "\n",
       "[323 rows x 2 columns]"
      ]
     },
     "execution_count": 4,
     "metadata": {},
     "output_type": "execute_result"
    }
   ],
   "source": [
    "orgdata"
   ]
  },
  {
   "cell_type": "code",
   "execution_count": 5,
   "id": "32da8995",
   "metadata": {},
   "outputs": [
    {
     "name": "stderr",
     "output_type": "stream",
     "text": [
      "Building prefix dict from the default dictionary ...\n",
      "Loading model from cache C:\\Users\\user\\AppData\\Local\\Temp\\jieba.cache\n",
      "Loading model cost 0.538 seconds.\n",
      "Prefix dict has been built successfully.\n"
     ]
    },
    {
     "name": "stdout",
     "output_type": "stream",
     "text": [
      "公園/綠/地名/稱\n"
     ]
    }
   ],
   "source": [
    "documents = ['公園綠地名稱']\n",
    "\n",
    "for sentence in documents:\n",
    "    seg_list = jieba.cut(sentence)\n",
    "    print('/'.join(seg_list))"
   ]
  },
  {
   "cell_type": "code",
   "execution_count": 6,
   "id": "a20447f2",
   "metadata": {},
   "outputs": [
    {
     "name": "stdout",
     "output_type": "stream",
     "text": [
      "公園/綠/地名/稱\n"
     ]
    }
   ],
   "source": [
    "jieba.load_userdict('first.txt')\n",
    "\n",
    "for sentence in documents:\n",
    "    seg_list = jieba.cut(sentence)\n",
    "    print('/'.join(seg_list))"
   ]
  },
  {
   "cell_type": "code",
   "execution_count": 7,
   "id": "c0aff4f6",
   "metadata": {},
   "outputs": [
    {
     "data": {
      "text/html": [
       "<div>\n",
       "<style scoped>\n",
       "    .dataframe tbody tr th:only-of-type {\n",
       "        vertical-align: middle;\n",
       "    }\n",
       "\n",
       "    .dataframe tbody tr th {\n",
       "        vertical-align: top;\n",
       "    }\n",
       "\n",
       "    .dataframe thead th {\n",
       "        text-align: right;\n",
       "    }\n",
       "</style>\n",
       "<table border=\"1\" class=\"dataframe\">\n",
       "  <thead>\n",
       "    <tr style=\"text-align: right;\">\n",
       "      <th></th>\n",
       "      <th>公園綠地名稱</th>\n",
       "      <th>公園地址</th>\n",
       "      <th>seg</th>\n",
       "    </tr>\n",
       "  </thead>\n",
       "  <tbody>\n",
       "    <tr>\n",
       "      <th>0</th>\n",
       "      <td>溫州公園</td>\n",
       "      <td>桃園區溫州街59號對面</td>\n",
       "      <td></td>\n",
       "    </tr>\n",
       "    <tr>\n",
       "      <th>1</th>\n",
       "      <td>青溪公園</td>\n",
       "      <td>桃園區自強路217號</td>\n",
       "      <td></td>\n",
       "    </tr>\n",
       "    <tr>\n",
       "      <th>2</th>\n",
       "      <td>西門綠園</td>\n",
       "      <td>桃園區四維街、文康街口</td>\n",
       "      <td></td>\n",
       "    </tr>\n",
       "    <tr>\n",
       "      <th>3</th>\n",
       "      <td>成功公園</td>\n",
       "      <td>桃園區成功路三段旁</td>\n",
       "      <td></td>\n",
       "    </tr>\n",
       "    <tr>\n",
       "      <th>4</th>\n",
       "      <td>仁愛公園</td>\n",
       "      <td>桃園區宏昌九街、泰昌十一街口</td>\n",
       "      <td></td>\n",
       "    </tr>\n",
       "  </tbody>\n",
       "</table>\n",
       "</div>"
      ],
      "text/plain": [
       "  公園綠地名稱            公園地址 seg\n",
       "0   溫州公園     桃園區溫州街59號對面    \n",
       "1   青溪公園      桃園區自強路217號    \n",
       "2   西門綠園     桃園區四維街、文康街口    \n",
       "3   成功公園       桃園區成功路三段旁    \n",
       "4   仁愛公園  桃園區宏昌九街、泰昌十一街口    "
      ]
     },
     "execution_count": 7,
     "metadata": {},
     "output_type": "execute_result"
    }
   ],
   "source": [
    "orgdata['seg'] = \"\"\n",
    "orgdata.head()"
   ]
  },
  {
   "cell_type": "code",
   "execution_count": 8,
   "id": "80032b2b",
   "metadata": {},
   "outputs": [],
   "source": [
    "jieba.load_userdict('second.txt')\n",
    "jieba.analyse.set_stop_words('stopwords.txt')\n",
    "index = 0\n",
    "for documents in orgdata['公園地址'].astype(str):\n",
    "    seg_list = jieba.analyse.extract_tags(documents, 150)\n",
    "    orgdata['seg'].iloc[index] = seg_list\n",
    "    index += 1"
   ]
  },
  {
   "cell_type": "code",
   "execution_count": 9,
   "id": "57cede63",
   "metadata": {},
   "outputs": [
    {
     "data": {
      "text/plain": [
       "0                   [桃園區, 溫州, 59]\n",
       "1                  [桃園區, 自強, 217]\n",
       "2              [桃園區, 四維街, 文康, 街口]\n",
       "3                   [桃園區, 三段, 成功]\n",
       "4       [泰昌, 桃園, 區宏昌, 九街, 街口, 十一]\n",
       "                  ...            \n",
       "318    [39, 觀音區, 仁愛路, 43, 號邊, 交口]\n",
       "319            [觀音區, 井旁, 中山路, 甘泉]\n",
       "320             [觀音區, 十全, 路口, 一心]\n",
       "321               [觀音區, 草新段, 612]\n",
       "322          [興區澤仁里, 忠孝路, 24, 號旁]\n",
       "Name: seg, Length: 323, dtype: object"
      ]
     },
     "execution_count": 9,
     "metadata": {},
     "output_type": "execute_result"
    }
   ],
   "source": [
    "orgdata['seg']"
   ]
  },
  {
   "cell_type": "code",
   "execution_count": 10,
   "id": "ac4d9fa8",
   "metadata": {},
   "outputs": [],
   "source": [
    "date_split = orgdata['公園地址'].iloc[0].split('，')"
   ]
  },
  {
   "cell_type": "code",
   "execution_count": 11,
   "id": "39feec33",
   "metadata": {},
   "outputs": [
    {
     "data": {
      "text/plain": [
       "'桃園區溫州街59號對面'"
      ]
     },
     "execution_count": 11,
     "metadata": {},
     "output_type": "execute_result"
    }
   ],
   "source": [
    "date_split[0]"
   ]
  },
  {
   "cell_type": "code",
   "execution_count": 18,
   "id": "e6013eed",
   "metadata": {},
   "outputs": [
    {
     "ename": "AttributeError",
     "evalue": "'float' object has no attribute 'split'",
     "output_type": "error",
     "traceback": [
      "\u001b[1;31m---------------------------------------------------------------------------\u001b[0m",
      "\u001b[1;31mAttributeError\u001b[0m                            Traceback (most recent call last)",
      "Input \u001b[1;32mIn [18]\u001b[0m, in \u001b[0;36m<cell line: 3>\u001b[1;34m()\u001b[0m\n\u001b[0;32m      2\u001b[0m index \u001b[38;5;241m=\u001b[39m \u001b[38;5;241m0\u001b[39m\n\u001b[0;32m      3\u001b[0m \u001b[38;5;28;01mfor\u001b[39;00m documents \u001b[38;5;129;01min\u001b[39;00m orgdata[\u001b[38;5;124m'\u001b[39m\u001b[38;5;124m公園地址\u001b[39m\u001b[38;5;124m'\u001b[39m]:\n\u001b[1;32m----> 4\u001b[0m     date_split \u001b[38;5;241m=\u001b[39m \u001b[43mdocuments\u001b[49m\u001b[38;5;241;43m.\u001b[39;49m\u001b[43msplit\u001b[49m(\u001b[38;5;124m'\u001b[39m\u001b[38;5;124m區\u001b[39m\u001b[38;5;124m'\u001b[39m)\n\u001b[0;32m      5\u001b[0m     orgdata[\u001b[38;5;124m'\u001b[39m\u001b[38;5;124m區\u001b[39m\u001b[38;5;124m'\u001b[39m]\u001b[38;5;241m.\u001b[39miloc[index] \u001b[38;5;241m=\u001b[39m date_split[\u001b[38;5;241m0\u001b[39m]\n\u001b[0;32m      6\u001b[0m     index \u001b[38;5;241m+\u001b[39m\u001b[38;5;241m=\u001b[39m \u001b[38;5;241m1\u001b[39m\n",
      "\u001b[1;31mAttributeError\u001b[0m: 'float' object has no attribute 'split'"
     ]
    }
   ],
   "source": [
    "orgdata['區'] = \"\"\n",
    "index = 0\n",
    "for documents in orgdata['公園地址']:\n",
    "    date_split = documents.split('區')\n",
    "    orgdata['區'].iloc[index] = date_split[0]\n",
    "    index += 1"
   ]
  },
  {
   "cell_type": "code",
   "execution_count": 14,
   "id": "73c16c07",
   "metadata": {},
   "outputs": [
    {
     "data": {
      "text/html": [
       "<div>\n",
       "<style scoped>\n",
       "    .dataframe tbody tr th:only-of-type {\n",
       "        vertical-align: middle;\n",
       "    }\n",
       "\n",
       "    .dataframe tbody tr th {\n",
       "        vertical-align: top;\n",
       "    }\n",
       "\n",
       "    .dataframe thead th {\n",
       "        text-align: right;\n",
       "    }\n",
       "</style>\n",
       "<table border=\"1\" class=\"dataframe\">\n",
       "  <thead>\n",
       "    <tr style=\"text-align: right;\">\n",
       "      <th></th>\n",
       "      <th>公園綠地名稱</th>\n",
       "      <th>公園地址</th>\n",
       "      <th>seg</th>\n",
       "      <th>cate</th>\n",
       "      <th>地址</th>\n",
       "    </tr>\n",
       "  </thead>\n",
       "  <tbody>\n",
       "    <tr>\n",
       "      <th>318</th>\n",
       "      <td>觀音兒一公園</td>\n",
       "      <td>觀音區仁愛路43巷39號邊(與39巷交口)</td>\n",
       "      <td>[39, 觀音區, 仁愛路, 43, 號邊, 交口]</td>\n",
       "      <td></td>\n",
       "      <td>觀音區仁愛路43巷39號邊(與39巷交口)</td>\n",
       "    </tr>\n",
       "    <tr>\n",
       "      <th>319</th>\n",
       "      <td>甘泉公園</td>\n",
       "      <td>觀音區中山路甘泉井旁</td>\n",
       "      <td>[觀音區, 井旁, 中山路, 甘泉]</td>\n",
       "      <td></td>\n",
       "      <td>觀音區中山路甘泉井旁</td>\n",
       "    </tr>\n",
       "    <tr>\n",
       "      <th>320</th>\n",
       "      <td>十全休憩公園</td>\n",
       "      <td>觀音區十全路與一心路口旁</td>\n",
       "      <td>[觀音區, 十全, 路口, 一心]</td>\n",
       "      <td></td>\n",
       "      <td>觀音區十全路與一心路口旁</td>\n",
       "    </tr>\n",
       "    <tr>\n",
       "      <th>321</th>\n",
       "      <td>草漯3號廣場</td>\n",
       "      <td>觀音區草新段612</td>\n",
       "      <td>[觀音區, 草新段, 612]</td>\n",
       "      <td></td>\n",
       "      <td>觀音區草新段612</td>\n",
       "    </tr>\n",
       "    <tr>\n",
       "      <th>322</th>\n",
       "      <td>志工公園</td>\n",
       "      <td>復興區澤仁里忠孝路24號旁</td>\n",
       "      <td>[興區澤仁里, 忠孝路, 24, 號旁]</td>\n",
       "      <td></td>\n",
       "      <td>復興區澤仁里忠孝路24號旁</td>\n",
       "    </tr>\n",
       "  </tbody>\n",
       "</table>\n",
       "</div>"
      ],
      "text/plain": [
       "     公園綠地名稱                   公園地址                         seg cate  \\\n",
       "318  觀音兒一公園  觀音區仁愛路43巷39號邊(與39巷交口)  [39, 觀音區, 仁愛路, 43, 號邊, 交口]        \n",
       "319    甘泉公園             觀音區中山路甘泉井旁          [觀音區, 井旁, 中山路, 甘泉]        \n",
       "320  十全休憩公園           觀音區十全路與一心路口旁           [觀音區, 十全, 路口, 一心]        \n",
       "321  草漯3號廣場              觀音區草新段612             [觀音區, 草新段, 612]        \n",
       "322    志工公園          復興區澤仁里忠孝路24號旁        [興區澤仁里, 忠孝路, 24, 號旁]        \n",
       "\n",
       "                        地址  \n",
       "318  觀音區仁愛路43巷39號邊(與39巷交口)  \n",
       "319             觀音區中山路甘泉井旁  \n",
       "320           觀音區十全路與一心路口旁  \n",
       "321              觀音區草新段612  \n",
       "322          復興區澤仁里忠孝路24號旁  "
      ]
     },
     "execution_count": 14,
     "metadata": {},
     "output_type": "execute_result"
    }
   ],
   "source": [
    "orgdata.tail()"
   ]
  },
  {
   "cell_type": "code",
   "execution_count": 15,
   "id": "5aa6e862",
   "metadata": {},
   "outputs": [
    {
     "ename": "NameError",
     "evalue": "name 'subdata' is not defined",
     "output_type": "error",
     "traceback": [
      "\u001b[1;31m---------------------------------------------------------------------------\u001b[0m",
      "\u001b[1;31mNameError\u001b[0m                                 Traceback (most recent call last)",
      "Input \u001b[1;32mIn [15]\u001b[0m, in \u001b[0;36m<cell line: 1>\u001b[1;34m()\u001b[0m\n\u001b[1;32m----> 1\u001b[0m subdata_seg_list \u001b[38;5;241m=\u001b[39m \u001b[43msubdata\u001b[49m[\u001b[38;5;124m'\u001b[39m\u001b[38;5;124mseg\u001b[39m\u001b[38;5;124m'\u001b[39m]\u001b[38;5;241m.\u001b[39mtolist()\n\u001b[0;32m      2\u001b[0m \u001b[38;5;28mtype\u001b[39m(subdata_seg_list)\n",
      "\u001b[1;31mNameError\u001b[0m: name 'subdata' is not defined"
     ]
    }
   ],
   "source": [
    "subdata_seg_list = subdata['seg'].tolist()\n",
    "type(subdata_seg_list)"
   ]
  }
 ],
 "metadata": {
  "kernelspec": {
   "display_name": "Python 3 (ipykernel)",
   "language": "python",
   "name": "python3"
  },
  "language_info": {
   "codemirror_mode": {
    "name": "ipython",
    "version": 3
   },
   "file_extension": ".py",
   "mimetype": "text/x-python",
   "name": "python",
   "nbconvert_exporter": "python",
   "pygments_lexer": "ipython3",
   "version": "3.9.12"
  }
 },
 "nbformat": 4,
 "nbformat_minor": 5
}
