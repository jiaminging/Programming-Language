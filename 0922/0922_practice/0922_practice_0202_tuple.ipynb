{
 "cells": [
  {
   "cell_type": "code",
   "execution_count": 10,
   "id": "151d1b06",
   "metadata": {},
   "outputs": [
    {
     "data": {
      "text/plain": [
       "('最高法院民事判例', '最高法院刑事判例', '行政法院判例')"
      ]
     },
     "execution_count": 10,
     "metadata": {},
     "output_type": "execute_result"
    }
   ],
   "source": [
    "ex = (\"最高法院民事判例\",\"最高法院刑事判例\",\"行政法院判例\",\"大法官解釋\")\n",
    "num = (7,3,5,4)\n",
    "\n",
    "#1\n",
    "ex_0_2 = ex[:3]\n",
    "ex_0_2\n",
    "\n",
    "\n",
    "\n"
   ]
  },
  {
   "cell_type": "code",
   "execution_count": 15,
   "id": "519736dd",
   "metadata": {},
   "outputs": [
    {
     "data": {
      "text/plain": [
       "[('最高法院民事判例', 7), ('最高法院刑事判例', 3), ('行政法院判例', 5), ('大法官解釋', 4)]"
      ]
     },
     "execution_count": 15,
     "metadata": {},
     "output_type": "execute_result"
    }
   ],
   "source": [
    "#2\n",
    "ex_num = zip(ex,num)\n",
    "ls_ex_num = list(ex_num)\n",
    "ls_ex_num\n"
   ]
  }
 ],
 "metadata": {
  "kernelspec": {
   "display_name": "Python 3 (ipykernel)",
   "language": "python",
   "name": "python3"
  },
  "language_info": {
   "codemirror_mode": {
    "name": "ipython",
    "version": 3
   },
   "file_extension": ".py",
   "mimetype": "text/x-python",
   "name": "python",
   "nbconvert_exporter": "python",
   "pygments_lexer": "ipython3",
   "version": "3.9.12"
  }
 },
 "nbformat": 4,
 "nbformat_minor": 5
}
