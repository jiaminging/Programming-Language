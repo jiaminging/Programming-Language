{
 "cells": [
  {
   "cell_type": "code",
   "execution_count": 5,
   "id": "768d1a91",
   "metadata": {},
   "outputs": [
    {
     "name": "stdout",
     "output_type": "stream",
     "text": [
      "[dict_keys(['a', 'b', 'c', 'd', 'e', 'f'])]\n",
      "[dict_keys(['A', 'B', 'C', 'D', 'E', 'F', 'G'])]\n",
      "第267條\n",
      "中華民國行法: {'A': '第11條', 'B': '第38條第1項第1款', 'C': '第42條第3項', 'D': '第55條', 'E': '第56條', 'F': '第57條', 'G': '第59條', 'H': '第62條'}\n"
     ]
    }
   ],
   "source": [
    "dic1 = {\"a\":\"第159條之4\",\n",
    "        \"b\":\"第159條之5\",\n",
    "        \"c\":\"第159條之1\",\n",
    "        \"d\":\"第267條\",\n",
    "        \"e\":\"第299條第1項\",\n",
    "        \"f\":\"第302條第1項\"\n",
    "        }\n",
    "\n",
    "dic2 = {\"A\":\"第11條\",\n",
    "        \"B\":\"第38條第1項第1款\",\n",
    "        \"C\":\"第42條第3項\",\n",
    "        \"D\":\"第55條\",\n",
    "        \"E\":\"第56條\",\n",
    "        \"F\":\"第57條\",\n",
    "        \"G\":\"第59條\"\n",
    "        }\n",
    "\n",
    "#1\n",
    "listA = [dic1.keys()]\n",
    "listB = [dic2.keys()]\n",
    "\n",
    "print(listA)\n",
    "print(listB)\n",
    "\n",
    "#2\n",
    "print(dic1[\"d\"])\n",
    "\n",
    "#3\n",
    "dic2[\"H\"] = \"第62條\"\n",
    "print(\"中華民國行法:\",dic2)"
   ]
  }
 ],
 "metadata": {
  "kernelspec": {
   "display_name": "Python 3 (ipykernel)",
   "language": "python",
   "name": "python3"
  },
  "language_info": {
   "codemirror_mode": {
    "name": "ipython",
    "version": 3
   },
   "file_extension": ".py",
   "mimetype": "text/x-python",
   "name": "python",
   "nbconvert_exporter": "python",
   "pygments_lexer": "ipython3",
   "version": "3.9.12"
  }
 },
 "nbformat": 4,
 "nbformat_minor": 5
}
