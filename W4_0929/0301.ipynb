{
 "cells": [
  {
   "cell_type": "code",
   "execution_count": 20,
   "id": "53b75825",
   "metadata": {},
   "outputs": [
    {
     "name": "stdout",
     "output_type": "stream",
     "text": [
      "請輸入1、2、3來查看資料...1\n",
      "{'a0': ['Name:阿程'], 'a1': ['Age:34'], 'a2': ['第62條', '汽車駕駛人駕駛汽車肇事', '2000元'], 'a3': ['第12條', '汽車使用吊銷、註銷之牌照', '被罰了5000元']}\n"
     ]
    }
   ],
   "source": [
    "d1 = {\n",
    "    \"a0\":[\"Name:阿程\"],\n",
    "    \"a1\":[\"Age:34\"],\n",
    "    \"a2\":[\"第62條\",\"汽車駕駛人駕駛汽車肇事\",\"2000元\"],\n",
    "    \"a3\":[\"第12條\",\"汽車使用吊銷、註銷之牌照\",\"被罰了5000元\"]\n",
    "}\n",
    "\n",
    "d2 = {\n",
    "    \"b0\":[\"Name:阿力\"],\n",
    "    \"b1\":[\"Age:29\"],\n",
    "    \"b2\":[\"第16條\",\"裝置高音量喇叭或其他產生噪音器物\",\"被罰了1200元\"],\n",
    "    \"b3\":[\"第56條\",\"在禁止臨時停車處所停車\",\"被罰了800元\"],\n",
    "    \"b4\":[\"第82條\",\"未經許可在道路擺設攤位\",\"被罰了1500元\"],\n",
    "    \"b5\":[\"第17條\",\"汽車不依限期參加定期檢驗或臨時檢驗\",\"被罰了900元\"]\n",
    "}\n",
    "\n",
    "d3 = {\n",
    "    \"c0\":[\"Name:阿瑤\"],\n",
    "    \"c1\":[\"Age:58\"],\n",
    "    \"c2\":[\"第21條\",\"未領有駕駛執照駕駛小型車或機車\",\"被罰了8000元\"]\n",
    "}\n",
    "\n",
    "\n",
    "    \n",
    "number = input(\"請輸入1、2、3來查看資料...\")\n",
    "\n",
    "if number == \"1\":\n",
    "    print(d1)\n",
    "\n",
    "\n",
    "\n",
    "\n",
    "\n"
   ]
  },
  {
   "cell_type": "code",
   "execution_count": null,
   "id": "299ab2e4",
   "metadata": {},
   "outputs": [],
   "source": []
  },
  {
   "cell_type": "code",
   "execution_count": null,
   "id": "c649ddd5",
   "metadata": {},
   "outputs": [],
   "source": []
  }
 ],
 "metadata": {
  "kernelspec": {
   "display_name": "Python 3 (ipykernel)",
   "language": "python",
   "name": "python3"
  },
  "language_info": {
   "codemirror_mode": {
    "name": "ipython",
    "version": 3
   },
   "file_extension": ".py",
   "mimetype": "text/x-python",
   "name": "python",
   "nbconvert_exporter": "python",
   "pygments_lexer": "ipython3",
   "version": "3.9.12"
  }
 },
 "nbformat": 4,
 "nbformat_minor": 5
}
