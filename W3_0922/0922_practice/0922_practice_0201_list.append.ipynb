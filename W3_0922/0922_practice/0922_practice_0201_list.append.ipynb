{
 "cells": [
  {
   "cell_type": "code",
   "execution_count": 1,
   "id": "a3e1599a",
   "metadata": {},
   "outputs": [
    {
     "name": "stdout",
     "output_type": "stream",
     "text": [
      "[]\n",
      "['楊清弦製貝瑞塔手槍1支']\n",
      "['楊清弦製貝瑞塔手槍1支', '美製史密斯手槍1支']\n",
      "['楊清弦製貝瑞塔手槍1支', '美製史密斯手槍1支', '制式口徑9mm子彈23顆']\n",
      "['楊清弦製貝瑞塔手槍1支', '美製史密斯手槍1支', '制式口徑9mm子彈23顆', '土造金屬子彈1顆']\n",
      "['楊清弦製貝瑞塔手槍1支', '美製史密斯手槍1支', '制式口徑9mm子彈23顆', '土造金屬子彈1顆', '仿美國COLT廠M1911A1型半自動手槍1支']\n",
      "['楊清弦製貝瑞塔手槍1支', '美製史密斯手槍1支', '制式口徑9mm子彈23顆', '土造金屬子彈1顆', '仿美國COLT廠M1911A1型半自動手槍1支', '口徑0.45吋制式子彈1顆']\n"
     ]
    }
   ],
   "source": [
    "ls = []\n",
    "print(ls)\n",
    "\n",
    "ls.append(\"楊清弦製貝瑞塔手槍1支\")\n",
    "print(ls)\n",
    "ls.append(\"美製史密斯手槍1支\")\n",
    "print(ls)\n",
    "ls.append(\"制式口徑9mm子彈23顆\")\n",
    "print(ls)\n",
    "ls.append(\"土造金屬子彈1顆\")\n",
    "print(ls)\n",
    "ls.append(\"仿美國COLT廠M1911A1型半自動手槍1支\")\n",
    "print(ls)\n",
    "ls.append(\"口徑0.45吋制式子彈1顆\")\n",
    "\n",
    "print(ls)"
   ]
  }
 ],
 "metadata": {
  "kernelspec": {
   "display_name": "Python 3 (ipykernel)",
   "language": "python",
   "name": "python3"
  },
  "language_info": {
   "codemirror_mode": {
    "name": "ipython",
    "version": 3
   },
   "file_extension": ".py",
   "mimetype": "text/x-python",
   "name": "python",
   "nbconvert_exporter": "python",
   "pygments_lexer": "ipython3",
   "version": "3.9.12"
  }
 },
 "nbformat": 4,
 "nbformat_minor": 5
}
