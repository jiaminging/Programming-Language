{
 "cells": [
  {
   "cell_type": "code",
   "execution_count": 9,
   "id": "768d1a91",
   "metadata": {},
   "outputs": [
    {
     "name": "stdout",
     "output_type": "stream",
     "text": [
      "第267條\n",
      "中華民國刑法: {'刑事訴訟法': ['第159條之4', '第159條之5', '第159條之1', '第267條', '第299條第1項', '第302條第1項'], '中華民國刑法': ['第11條', '第38條第1項第1款', '第42條第3項', '第55條', '第56條', '第57條', '第59條', '第62條']}\n"
     ]
    }
   ],
   "source": [
    "dic1 = {\n",
    "        \"刑事訴訟法\":\n",
    "                    [\n",
    "                    \"第159條之4\",\n",
    "                    \"第159條之5\",\n",
    "                    \"第159條之1\",\n",
    "                    \"第267條\",\n",
    "                    \"第299條第1項\",\n",
    "                    \"第302條第1項\"\n",
    "                    ],\n",
    "                \n",
    "        \"中華民國刑法\":\n",
    "                    [\n",
    "                    \"第11條\",\n",
    "                    \"第38條第1項第1款\",\n",
    "                    \"第42條第3項\",\n",
    "                    \"第55條\",\n",
    "                    \"第56條\",\n",
    "                    \"第57條\",\n",
    "                    \"第59條\"\n",
    "                     ]\n",
    "        }\n",
    "\n",
    "#1\n",
    "listA = [dic1.keys()]\n",
    "\n",
    "list_V = [dic1.values()]\n",
    "\n",
    "#2\n",
    "print(dic1[\"刑事訴訟法\"][3])\n",
    "\n",
    "#3\n",
    "dic1[\"中華民國刑法\"].append(\"第62條\")\n",
    "print(\"中華民國刑法:\",dic1)"
   ]
  }
 ],
 "metadata": {
  "kernelspec": {
   "display_name": "Python 3 (ipykernel)",
   "language": "python",
   "name": "python3"
  },
  "language_info": {
   "codemirror_mode": {
    "name": "ipython",
    "version": 3
   },
   "file_extension": ".py",
   "mimetype": "text/x-python",
   "name": "python",
   "nbconvert_exporter": "python",
   "pygments_lexer": "ipython3",
   "version": "3.9.12"
  }
 },
 "nbformat": 4,
 "nbformat_minor": 5
}
