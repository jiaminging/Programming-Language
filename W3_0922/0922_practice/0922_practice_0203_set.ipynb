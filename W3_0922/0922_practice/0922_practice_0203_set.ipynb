{
 "cells": [
  {
   "cell_type": "code",
   "execution_count": 10,
   "id": "877767aa",
   "metadata": {},
   "outputs": [
    {
     "name": "stdout",
     "output_type": "stream",
     "text": [
      "A: {'沒收', '罰金', '有期徒刑'}\n",
      "B: {'褫奪公權', '罰金', '無期徒刑'}\n",
      "B有A沒有: {'褫奪公權', '無期徒刑'}\n",
      "{'罰金'}\n",
      "True\n",
      "True\n",
      "False\n"
     ]
    }
   ],
   "source": [
    "#A,B 三種刑罰\n",
    "#A:有期徒刑、沒收、罰金\n",
    "#B:無期徒刑、罰金、褫奪公權\n",
    "\n",
    "#1\n",
    "setA = {\"有期徒刑\",\"沒收\",\"罰金\"}\n",
    "setB = {\"無期徒刑\",\"罰金\",\"褫奪公權\"}\n",
    "\n",
    "print(\"A:\",setA)\n",
    "print(\"B:\",setB)\n",
    "\n",
    "#2 B有A沒有\n",
    "print(\"B有A沒有:\",setB - setA)\n",
    "\n",
    "#3 共同刑罰\n",
    "print(setA & setB)\n",
    "print(\"罰金\" in setA)\n",
    "print(\"罰金\" in setB)\n",
    "print((setA & setB) in setA)"
   ]
  }
 ],
 "metadata": {
  "kernelspec": {
   "display_name": "Python 3 (ipykernel)",
   "language": "python",
   "name": "python3"
  },
  "language_info": {
   "codemirror_mode": {
    "name": "ipython",
    "version": 3
   },
   "file_extension": ".py",
   "mimetype": "text/x-python",
   "name": "python",
   "nbconvert_exporter": "python",
   "pygments_lexer": "ipython3",
   "version": "3.9.12"
  }
 },
 "nbformat": 4,
 "nbformat_minor": 5
}
